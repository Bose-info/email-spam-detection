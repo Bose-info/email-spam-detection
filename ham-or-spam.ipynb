{
 "cells": [
  {
   "cell_type": "code",
   "execution_count": 100,
   "id": "8fff638f",
   "metadata": {
    "execution": {
     "iopub.execute_input": "2023-11-07T13:22:40.506165Z",
     "iopub.status.busy": "2023-11-07T13:22:40.505256Z",
     "iopub.status.idle": "2023-11-07T13:22:40.511711Z",
     "shell.execute_reply": "2023-11-07T13:22:40.510361Z"
    },
    "papermill": {
     "duration": 0.014159,
     "end_time": "2023-11-07T13:22:40.513789",
     "exception": false,
     "start_time": "2023-11-07T13:22:40.499630",
     "status": "completed"
    },
    "tags": []
   },
   "outputs": [],
   "source": [
    "import numpy as np \n",
    "import pandas as pd\n",
    "import matplotlib.pyplot as plt\n",
    "import pandas as pd"
   ]
  },
  {
   "cell_type": "code",
   "execution_count": 101,
   "id": "832b54ea",
   "metadata": {
    "execution": {
     "iopub.execute_input": "2023-11-07T13:22:40.523820Z",
     "iopub.status.busy": "2023-11-07T13:22:40.523017Z",
     "iopub.status.idle": "2023-11-07T13:22:40.575879Z",
     "shell.execute_reply": "2023-11-07T13:22:40.574771Z"
    },
    "papermill": {
     "duration": 0.060179,
     "end_time": "2023-11-07T13:22:40.578069",
     "exception": false,
     "start_time": "2023-11-07T13:22:40.517890",
     "status": "completed"
    },
    "tags": []
   },
   "outputs": [
    {
     "data": {
      "text/html": [
       "<div>\n",
       "<style scoped>\n",
       "    .dataframe tbody tr th:only-of-type {\n",
       "        vertical-align: middle;\n",
       "    }\n",
       "\n",
       "    .dataframe tbody tr th {\n",
       "        vertical-align: top;\n",
       "    }\n",
       "\n",
       "    .dataframe thead th {\n",
       "        text-align: right;\n",
       "    }\n",
       "</style>\n",
       "<table border=\"1\" class=\"dataframe\">\n",
       "  <thead>\n",
       "    <tr style=\"text-align: right;\">\n",
       "      <th></th>\n",
       "      <th>v1</th>\n",
       "      <th>v2</th>\n",
       "      <th>Unnamed: 2</th>\n",
       "      <th>Unnamed: 3</th>\n",
       "      <th>Unnamed: 4</th>\n",
       "    </tr>\n",
       "  </thead>\n",
       "  <tbody>\n",
       "    <tr>\n",
       "      <th>0</th>\n",
       "      <td>ham</td>\n",
       "      <td>Go until jurong point, crazy.. Available only ...</td>\n",
       "      <td>NaN</td>\n",
       "      <td>NaN</td>\n",
       "      <td>NaN</td>\n",
       "    </tr>\n",
       "    <tr>\n",
       "      <th>1</th>\n",
       "      <td>ham</td>\n",
       "      <td>Ok lar... Joking wif u oni...</td>\n",
       "      <td>NaN</td>\n",
       "      <td>NaN</td>\n",
       "      <td>NaN</td>\n",
       "    </tr>\n",
       "    <tr>\n",
       "      <th>2</th>\n",
       "      <td>spam</td>\n",
       "      <td>Free entry in 2 a wkly comp to win FA Cup fina...</td>\n",
       "      <td>NaN</td>\n",
       "      <td>NaN</td>\n",
       "      <td>NaN</td>\n",
       "    </tr>\n",
       "    <tr>\n",
       "      <th>3</th>\n",
       "      <td>ham</td>\n",
       "      <td>U dun say so early hor... U c already then say...</td>\n",
       "      <td>NaN</td>\n",
       "      <td>NaN</td>\n",
       "      <td>NaN</td>\n",
       "    </tr>\n",
       "    <tr>\n",
       "      <th>4</th>\n",
       "      <td>ham</td>\n",
       "      <td>Nah I don't think he goes to usf, he lives aro...</td>\n",
       "      <td>NaN</td>\n",
       "      <td>NaN</td>\n",
       "      <td>NaN</td>\n",
       "    </tr>\n",
       "  </tbody>\n",
       "</table>\n",
       "</div>"
      ],
      "text/plain": [
       "     v1                                                 v2 Unnamed: 2  \\\n",
       "0   ham  Go until jurong point, crazy.. Available only ...        NaN   \n",
       "1   ham                      Ok lar... Joking wif u oni...        NaN   \n",
       "2  spam  Free entry in 2 a wkly comp to win FA Cup fina...        NaN   \n",
       "3   ham  U dun say so early hor... U c already then say...        NaN   \n",
       "4   ham  Nah I don't think he goes to usf, he lives aro...        NaN   \n",
       "\n",
       "  Unnamed: 3 Unnamed: 4  \n",
       "0        NaN        NaN  \n",
       "1        NaN        NaN  \n",
       "2        NaN        NaN  \n",
       "3        NaN        NaN  \n",
       "4        NaN        NaN  "
      ]
     },
     "execution_count": 101,
     "metadata": {},
     "output_type": "execute_result"
    }
   ],
   "source": [
    "df = pd.read_csv('spam.csv',encoding='latin-1')\n",
    "df.head()"
   ]
  },
  {
   "cell_type": "code",
   "execution_count": 102,
   "id": "3dd6111a",
   "metadata": {
    "execution": {
     "iopub.execute_input": "2023-11-07T13:22:40.587719Z",
     "iopub.status.busy": "2023-11-07T13:22:40.587386Z",
     "iopub.status.idle": "2023-11-07T13:22:40.606161Z",
     "shell.execute_reply": "2023-11-07T13:22:40.604124Z"
    },
    "papermill": {
     "duration": 0.026083,
     "end_time": "2023-11-07T13:22:40.608377",
     "exception": false,
     "start_time": "2023-11-07T13:22:40.582294",
     "status": "completed"
    },
    "tags": []
   },
   "outputs": [
    {
     "data": {
      "text/html": [
       "<div>\n",
       "<style scoped>\n",
       "    .dataframe tbody tr th:only-of-type {\n",
       "        vertical-align: middle;\n",
       "    }\n",
       "\n",
       "    .dataframe tbody tr th {\n",
       "        vertical-align: top;\n",
       "    }\n",
       "\n",
       "    .dataframe thead th {\n",
       "        text-align: right;\n",
       "    }\n",
       "</style>\n",
       "<table border=\"1\" class=\"dataframe\">\n",
       "  <thead>\n",
       "    <tr style=\"text-align: right;\">\n",
       "      <th></th>\n",
       "      <th>v1</th>\n",
       "      <th>v2</th>\n",
       "    </tr>\n",
       "  </thead>\n",
       "  <tbody>\n",
       "    <tr>\n",
       "      <th>0</th>\n",
       "      <td>ham</td>\n",
       "      <td>Go until jurong point, crazy.. Available only ...</td>\n",
       "    </tr>\n",
       "    <tr>\n",
       "      <th>1</th>\n",
       "      <td>ham</td>\n",
       "      <td>Ok lar... Joking wif u oni...</td>\n",
       "    </tr>\n",
       "    <tr>\n",
       "      <th>2</th>\n",
       "      <td>spam</td>\n",
       "      <td>Free entry in 2 a wkly comp to win FA Cup fina...</td>\n",
       "    </tr>\n",
       "    <tr>\n",
       "      <th>3</th>\n",
       "      <td>ham</td>\n",
       "      <td>U dun say so early hor... U c already then say...</td>\n",
       "    </tr>\n",
       "    <tr>\n",
       "      <th>4</th>\n",
       "      <td>ham</td>\n",
       "      <td>Nah I don't think he goes to usf, he lives aro...</td>\n",
       "    </tr>\n",
       "  </tbody>\n",
       "</table>\n",
       "</div>"
      ],
      "text/plain": [
       "     v1                                                 v2\n",
       "0   ham  Go until jurong point, crazy.. Available only ...\n",
       "1   ham                      Ok lar... Joking wif u oni...\n",
       "2  spam  Free entry in 2 a wkly comp to win FA Cup fina...\n",
       "3   ham  U dun say so early hor... U c already then say...\n",
       "4   ham  Nah I don't think he goes to usf, he lives aro..."
      ]
     },
     "execution_count": 102,
     "metadata": {},
     "output_type": "execute_result"
    }
   ],
   "source": [
    "df = df.drop(['Unnamed: 2', 'Unnamed: 3', 'Unnamed: 4'], axis = 1)\n",
    "df.head()"
   ]
  },
  {
   "cell_type": "code",
   "execution_count": 103,
   "id": "91ffbcb9",
   "metadata": {
    "execution": {
     "iopub.execute_input": "2023-11-07T13:22:40.620703Z",
     "iopub.status.busy": "2023-11-07T13:22:40.619205Z",
     "iopub.status.idle": "2023-11-07T13:22:40.631176Z",
     "shell.execute_reply": "2023-11-07T13:22:40.629724Z"
    },
    "papermill": {
     "duration": 0.019904,
     "end_time": "2023-11-07T13:22:40.633355",
     "exception": false,
     "start_time": "2023-11-07T13:22:40.613451",
     "status": "completed"
    },
    "tags": []
   },
   "outputs": [
    {
     "data": {
      "text/html": [
       "<div>\n",
       "<style scoped>\n",
       "    .dataframe tbody tr th:only-of-type {\n",
       "        vertical-align: middle;\n",
       "    }\n",
       "\n",
       "    .dataframe tbody tr th {\n",
       "        vertical-align: top;\n",
       "    }\n",
       "\n",
       "    .dataframe thead th {\n",
       "        text-align: right;\n",
       "    }\n",
       "</style>\n",
       "<table border=\"1\" class=\"dataframe\">\n",
       "  <thead>\n",
       "    <tr style=\"text-align: right;\">\n",
       "      <th></th>\n",
       "      <th>labels</th>\n",
       "      <th>message</th>\n",
       "    </tr>\n",
       "  </thead>\n",
       "  <tbody>\n",
       "    <tr>\n",
       "      <th>0</th>\n",
       "      <td>ham</td>\n",
       "      <td>Go until jurong point, crazy.. Available only ...</td>\n",
       "    </tr>\n",
       "    <tr>\n",
       "      <th>1</th>\n",
       "      <td>ham</td>\n",
       "      <td>Ok lar... Joking wif u oni...</td>\n",
       "    </tr>\n",
       "    <tr>\n",
       "      <th>2</th>\n",
       "      <td>spam</td>\n",
       "      <td>Free entry in 2 a wkly comp to win FA Cup fina...</td>\n",
       "    </tr>\n",
       "    <tr>\n",
       "      <th>3</th>\n",
       "      <td>ham</td>\n",
       "      <td>U dun say so early hor... U c already then say...</td>\n",
       "    </tr>\n",
       "    <tr>\n",
       "      <th>4</th>\n",
       "      <td>ham</td>\n",
       "      <td>Nah I don't think he goes to usf, he lives aro...</td>\n",
       "    </tr>\n",
       "  </tbody>\n",
       "</table>\n",
       "</div>"
      ],
      "text/plain": [
       "  labels                                            message\n",
       "0    ham  Go until jurong point, crazy.. Available only ...\n",
       "1    ham                      Ok lar... Joking wif u oni...\n",
       "2   spam  Free entry in 2 a wkly comp to win FA Cup fina...\n",
       "3    ham  U dun say so early hor... U c already then say...\n",
       "4    ham  Nah I don't think he goes to usf, he lives aro..."
      ]
     },
     "execution_count": 103,
     "metadata": {},
     "output_type": "execute_result"
    }
   ],
   "source": [
    "df.rename(columns = {'v1':'labels', 'v2':'message'}, inplace=True)\n",
    "df.head()"
   ]
  },
  {
   "cell_type": "code",
   "execution_count": 104,
   "id": "a23a37fe",
   "metadata": {
    "execution": {
     "iopub.execute_input": "2023-11-07T13:22:40.643476Z",
     "iopub.status.busy": "2023-11-07T13:22:40.643191Z",
     "iopub.status.idle": "2023-11-07T13:22:40.659445Z",
     "shell.execute_reply": "2023-11-07T13:22:40.657935Z"
    },
    "papermill": {
     "duration": 0.023644,
     "end_time": "2023-11-07T13:22:40.661427",
     "exception": false,
     "start_time": "2023-11-07T13:22:40.637783",
     "status": "completed"
    },
    "tags": []
   },
   "outputs": [
    {
     "data": {
      "text/plain": [
       "(5169, 2)"
      ]
     },
     "execution_count": 104,
     "metadata": {},
     "output_type": "execute_result"
    }
   ],
   "source": [
    "df.drop_duplicates(inplace=True)\n",
    "df.shape"
   ]
  },
  {
   "cell_type": "code",
   "execution_count": 105,
   "id": "bf313d18",
   "metadata": {
    "execution": {
     "iopub.execute_input": "2023-11-07T13:22:40.672418Z",
     "iopub.status.busy": "2023-11-07T13:22:40.671433Z",
     "iopub.status.idle": "2023-11-07T13:22:40.686147Z",
     "shell.execute_reply": "2023-11-07T13:22:40.685076Z"
    },
    "papermill": {
     "duration": 0.022587,
     "end_time": "2023-11-07T13:22:40.688441",
     "exception": false,
     "start_time": "2023-11-07T13:22:40.665854",
     "status": "completed"
    },
    "tags": []
   },
   "outputs": [
    {
     "data": {
      "text/html": [
       "<div>\n",
       "<style scoped>\n",
       "    .dataframe tbody tr th:only-of-type {\n",
       "        vertical-align: middle;\n",
       "    }\n",
       "\n",
       "    .dataframe tbody tr th {\n",
       "        vertical-align: top;\n",
       "    }\n",
       "\n",
       "    .dataframe thead th {\n",
       "        text-align: right;\n",
       "    }\n",
       "</style>\n",
       "<table border=\"1\" class=\"dataframe\">\n",
       "  <thead>\n",
       "    <tr style=\"text-align: right;\">\n",
       "      <th></th>\n",
       "      <th>labels</th>\n",
       "      <th>message</th>\n",
       "      <th>label</th>\n",
       "    </tr>\n",
       "  </thead>\n",
       "  <tbody>\n",
       "    <tr>\n",
       "      <th>0</th>\n",
       "      <td>ham</td>\n",
       "      <td>Go until jurong point, crazy.. Available only ...</td>\n",
       "      <td>0</td>\n",
       "    </tr>\n",
       "    <tr>\n",
       "      <th>1</th>\n",
       "      <td>ham</td>\n",
       "      <td>Ok lar... Joking wif u oni...</td>\n",
       "      <td>0</td>\n",
       "    </tr>\n",
       "    <tr>\n",
       "      <th>2</th>\n",
       "      <td>spam</td>\n",
       "      <td>Free entry in 2 a wkly comp to win FA Cup fina...</td>\n",
       "      <td>1</td>\n",
       "    </tr>\n",
       "    <tr>\n",
       "      <th>3</th>\n",
       "      <td>ham</td>\n",
       "      <td>U dun say so early hor... U c already then say...</td>\n",
       "      <td>0</td>\n",
       "    </tr>\n",
       "    <tr>\n",
       "      <th>4</th>\n",
       "      <td>ham</td>\n",
       "      <td>Nah I don't think he goes to usf, he lives aro...</td>\n",
       "      <td>0</td>\n",
       "    </tr>\n",
       "  </tbody>\n",
       "</table>\n",
       "</div>"
      ],
      "text/plain": [
       "  labels                                            message  label\n",
       "0    ham  Go until jurong point, crazy.. Available only ...      0\n",
       "1    ham                      Ok lar... Joking wif u oni...      0\n",
       "2   spam  Free entry in 2 a wkly comp to win FA Cup fina...      1\n",
       "3    ham  U dun say so early hor... U c already then say...      0\n",
       "4    ham  Nah I don't think he goes to usf, he lives aro...      0"
      ]
     },
     "execution_count": 105,
     "metadata": {},
     "output_type": "execute_result"
    }
   ],
   "source": [
    "df['label'] = df['labels'].map({'ham': 0, 'spam': 1})\n",
    "df.head()"
   ]
  },
  {
   "cell_type": "code",
   "execution_count": 106,
   "id": "d2991334",
   "metadata": {
    "execution": {
     "iopub.execute_input": "2023-11-07T13:22:40.699194Z",
     "iopub.status.busy": "2023-11-07T13:22:40.698793Z",
     "iopub.status.idle": "2023-11-07T13:22:40.711123Z",
     "shell.execute_reply": "2023-11-07T13:22:40.710132Z"
    },
    "papermill": {
     "duration": 0.019707,
     "end_time": "2023-11-07T13:22:40.712988",
     "exception": false,
     "start_time": "2023-11-07T13:22:40.693281",
     "status": "completed"
    },
    "tags": []
   },
   "outputs": [
    {
     "data": {
      "text/html": [
       "<div>\n",
       "<style scoped>\n",
       "    .dataframe tbody tr th:only-of-type {\n",
       "        vertical-align: middle;\n",
       "    }\n",
       "\n",
       "    .dataframe tbody tr th {\n",
       "        vertical-align: top;\n",
       "    }\n",
       "\n",
       "    .dataframe thead th {\n",
       "        text-align: right;\n",
       "    }\n",
       "</style>\n",
       "<table border=\"1\" class=\"dataframe\">\n",
       "  <thead>\n",
       "    <tr style=\"text-align: right;\">\n",
       "      <th></th>\n",
       "      <th>message</th>\n",
       "      <th>label</th>\n",
       "    </tr>\n",
       "  </thead>\n",
       "  <tbody>\n",
       "    <tr>\n",
       "      <th>0</th>\n",
       "      <td>Go until jurong point, crazy.. Available only ...</td>\n",
       "      <td>0</td>\n",
       "    </tr>\n",
       "    <tr>\n",
       "      <th>1</th>\n",
       "      <td>Ok lar... Joking wif u oni...</td>\n",
       "      <td>0</td>\n",
       "    </tr>\n",
       "    <tr>\n",
       "      <th>2</th>\n",
       "      <td>Free entry in 2 a wkly comp to win FA Cup fina...</td>\n",
       "      <td>1</td>\n",
       "    </tr>\n",
       "    <tr>\n",
       "      <th>3</th>\n",
       "      <td>U dun say so early hor... U c already then say...</td>\n",
       "      <td>0</td>\n",
       "    </tr>\n",
       "    <tr>\n",
       "      <th>4</th>\n",
       "      <td>Nah I don't think he goes to usf, he lives aro...</td>\n",
       "      <td>0</td>\n",
       "    </tr>\n",
       "  </tbody>\n",
       "</table>\n",
       "</div>"
      ],
      "text/plain": [
       "                                             message  label\n",
       "0  Go until jurong point, crazy.. Available only ...      0\n",
       "1                      Ok lar... Joking wif u oni...      0\n",
       "2  Free entry in 2 a wkly comp to win FA Cup fina...      1\n",
       "3  U dun say so early hor... U c already then say...      0\n",
       "4  Nah I don't think he goes to usf, he lives aro...      0"
      ]
     },
     "execution_count": 106,
     "metadata": {},
     "output_type": "execute_result"
    }
   ],
   "source": [
    "df.drop(['labels'], axis=1, inplace=True)\n",
    "df.head() "
   ]
  },
  {
   "cell_type": "code",
   "execution_count": 107,
   "id": "95ce8844",
   "metadata": {
    "execution": {
     "iopub.execute_input": "2023-11-07T13:22:40.724933Z",
     "iopub.status.busy": "2023-11-07T13:22:40.724246Z",
     "iopub.status.idle": "2023-11-07T13:22:42.802927Z",
     "shell.execute_reply": "2023-11-07T13:22:42.801927Z"
    },
    "papermill": {
     "duration": 2.086898,
     "end_time": "2023-11-07T13:22:42.804878",
     "exception": false,
     "start_time": "2023-11-07T13:22:40.717980",
     "status": "completed"
    },
    "tags": []
   },
   "outputs": [
    {
     "name": "stderr",
     "output_type": "stream",
     "text": [
      "[nltk_data] Downloading package stopwords to\n",
      "[nltk_data]     C:\\Users\\boses\\AppData\\Roaming\\nltk_data...\n",
      "[nltk_data]   Package stopwords is already up-to-date!\n"
     ]
    }
   ],
   "source": [
    "import re\n",
    "import nltk\n",
    "nltk.download('stopwords')\n",
    "\n",
    "from nltk.corpus import stopwords\n",
    "\n",
    "import string\n",
    "\n",
    "def preprocess_text(message):\n",
    "    \n",
    "    \"\"\"\n",
    "    Takes in a string of text, then performs the following:\n",
    "    1. Remove all punctuation\n",
    "    2. Remove all stopwords/conjunctions\n",
    "    3. Returns a list of the cleaned text\n",
    "    \n",
    "    \"\"\"\n",
    "    # Check characters to see if they are in punctuation\n",
    "    without_punc = [char for char in message if char not in string.punctuation]\n",
    "\n",
    "    # Join the characters again to form the string.\n",
    "    without_punc = ''.join(without_punc)\n",
    "    \n",
    "    # Now just remove any stopwords\n",
    "    return [word for word in without_punc.split() if word.lower() not in stopwords.words('english')]"
   ]
  },
  {
   "cell_type": "code",
   "execution_count": 108,
   "id": "91d56d0b",
   "metadata": {
    "execution": {
     "iopub.execute_input": "2023-11-07T13:22:42.816111Z",
     "iopub.status.busy": "2023-11-07T13:22:42.815748Z",
     "iopub.status.idle": "2023-11-07T13:22:42.834725Z",
     "shell.execute_reply": "2023-11-07T13:22:42.833723Z"
    },
    "papermill": {
     "duration": 0.026867,
     "end_time": "2023-11-07T13:22:42.836662",
     "exception": false,
     "start_time": "2023-11-07T13:22:42.809795",
     "status": "completed"
    },
    "tags": []
   },
   "outputs": [
    {
     "data": {
      "text/plain": [
       "0    [Go, jurong, point, crazy, Available, bugis, n...\n",
       "1                       [Ok, lar, Joking, wif, u, oni]\n",
       "2    [Free, entry, 2, wkly, comp, win, FA, Cup, fin...\n",
       "3        [U, dun, say, early, hor, U, c, already, say]\n",
       "4    [Nah, dont, think, goes, usf, lives, around, t...\n",
       "Name: message, dtype: object"
      ]
     },
     "execution_count": 108,
     "metadata": {},
     "output_type": "execute_result"
    }
   ],
   "source": [
    "df['message'].head().apply(preprocess_text)"
   ]
  },
  {
   "cell_type": "code",
   "execution_count": 109,
   "id": "de668496",
   "metadata": {
    "execution": {
     "iopub.execute_input": "2023-11-07T13:22:45.167978Z",
     "iopub.status.busy": "2023-11-07T13:22:45.166706Z",
     "iopub.status.idle": "2023-11-07T13:22:45.256560Z",
     "shell.execute_reply": "2023-11-07T13:22:45.255185Z"
    },
    "papermill": {
     "duration": 0.104325,
     "end_time": "2023-11-07T13:22:45.259131",
     "exception": false,
     "start_time": "2023-11-07T13:22:45.154806",
     "status": "completed"
    },
    "tags": []
   },
   "outputs": [],
   "source": [
    "from sklearn.feature_extraction.text import CountVectorizer\n",
    "x = df['message']\n",
    "y = df['label']\n",
    "cv = CountVectorizer()\n",
    "x= cv.fit_transform(x)"
   ]
  },
  {
   "cell_type": "code",
   "execution_count": 110,
   "id": "03e9029a",
   "metadata": {
    "execution": {
     "iopub.execute_input": "2023-11-07T13:22:45.283098Z",
     "iopub.status.busy": "2023-11-07T13:22:45.282682Z",
     "iopub.status.idle": "2023-11-07T13:22:45.316744Z",
     "shell.execute_reply": "2023-11-07T13:22:45.314791Z"
    },
    "papermill": {
     "duration": 0.04922,
     "end_time": "2023-11-07T13:22:45.319366",
     "exception": false,
     "start_time": "2023-11-07T13:22:45.270146",
     "status": "completed"
    },
    "tags": []
   },
   "outputs": [
    {
     "name": "stdout",
     "output_type": "stream",
     "text": [
      "              precision    recall  f1-score   support\n",
      "\n",
      "           0       0.99      0.99      0.99       885\n",
      "           1       0.91      0.93      0.92       149\n",
      "\n",
      "    accuracy                           0.98      1034\n",
      "   macro avg       0.95      0.96      0.96      1034\n",
      "weighted avg       0.98      0.98      0.98      1034\n",
      "\n",
      "\n",
      "Confusion Matrix:\n",
      " [[872  13]\n",
      " [ 10 139]]\n",
      "\n",
      "Accuracy :  0.9777562862669246\n"
     ]
    }
   ],
   "source": [
    "from sklearn.model_selection import train_test_split\n",
    "x_train, x_test, y_train, y_test = train_test_split(x, y, test_size=0.20, random_state=0)\n",
    "\n",
    "from sklearn.naive_bayes import MultinomialNB\n",
    "classifier = MultinomialNB().fit(x_train, y_train)\n",
    "\n",
    "from sklearn.metrics import classification_report, confusion_matrix, accuracy_score\n",
    "pred = classifier.predict(x_test)\n",
    "print(classification_report(y_test, pred))\n",
    "print()\n",
    "print('Confusion Matrix:\\n',confusion_matrix(y_test, pred))\n",
    "print()\n",
    "print('Accuracy : ',accuracy_score(y_test, pred))"
   ]
  },
  {
   "cell_type": "code",
   "execution_count": 111,
   "id": "014aeda8",
   "metadata": {
    "execution": {
     "iopub.execute_input": "2023-11-07T13:22:45.344379Z",
     "iopub.status.busy": "2023-11-07T13:22:45.343833Z",
     "iopub.status.idle": "2023-11-07T13:22:45.350243Z",
     "shell.execute_reply": "2023-11-07T13:22:45.349204Z"
    },
    "papermill": {
     "duration": 0.021956,
     "end_time": "2023-11-07T13:22:45.352310",
     "exception": false,
     "start_time": "2023-11-07T13:22:45.330354",
     "status": "completed"
    },
    "tags": []
   },
   "outputs": [],
   "source": [
    "def sms(text):\n",
    "    \n",
    "    # creating a list of labels\n",
    "    labels = ['not spam','spam'] \n",
    "    \n",
    "    # perform tokenization\n",
    "    x = cv.transform(text).toarray()\n",
    "    \n",
    "    # predict the text\n",
    "    p = classifier.predict(x)\n",
    "    \n",
    "    # convert the words in string with the help of list\n",
    "    s = [str(i) for i in p]\n",
    "    a = int(\"\".join(s))\n",
    "    \n",
    "    # show out the final result\n",
    "    res = str(\"This message is looking: \"+ labels[a])\n",
    "    print(res)"
   ]
  },
  {
   "cell_type": "code",
   "execution_count": 112,
   "id": "caa72d93",
   "metadata": {
    "execution": {
     "iopub.execute_input": "2023-11-07T13:22:45.376205Z",
     "iopub.status.busy": "2023-11-07T13:22:45.375801Z",
     "iopub.status.idle": "2023-11-07T13:22:45.382690Z",
     "shell.execute_reply": "2023-11-07T13:22:45.381581Z"
    },
    "papermill": {
     "duration": 0.02131,
     "end_time": "2023-11-07T13:22:45.384554",
     "exception": false,
     "start_time": "2023-11-07T13:22:45.363244",
     "status": "completed"
    },
    "tags": []
   },
   "outputs": [
    {
     "name": "stdout",
     "output_type": "stream",
     "text": [
      "This message is looking: not spam\n"
     ]
    }
   ],
   "source": [
    "sms(['this is not a spam'])"
   ]
  }
 ],
 "metadata": {
  "kernelspec": {
   "display_name": "Python 3",
   "language": "python",
   "name": "python3"
  },
  "language_info": {
   "codemirror_mode": {
    "name": "ipython",
    "version": 3
   },
   "file_extension": ".py",
   "mimetype": "text/x-python",
   "name": "python",
   "nbconvert_exporter": "python",
   "pygments_lexer": "ipython3",
   "version": "3.10.12"
  },
  "papermill": {
   "default_parameters": {},
   "duration": 8.749514,
   "end_time": "2023-11-07T13:22:46.016740",
   "environment_variables": {},
   "exception": null,
   "input_path": "__notebook__.ipynb",
   "output_path": "__notebook__.ipynb",
   "parameters": {},
   "start_time": "2023-11-07T13:22:37.267226",
   "version": "2.4.0"
  }
 },
 "nbformat": 4,
 "nbformat_minor": 5
}
